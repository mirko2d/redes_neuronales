{
 "cells": [
  {
   "cell_type": "code",
   "execution_count": 1,
   "id": "a51040fe",
   "metadata": {},
   "outputs": [],
   "source": [
    "import torch\n",
    "import torch.nn as nn\n",
    "import torch.nn.functional as F\n",
    "import torch.optim as optim\n",
    "from torch.utils.data import DataLoader, Subset\n",
    "from torchvision import datasets, transforms\n",
    "import numpy as np\n"
   ]
  },
  {
   "cell_type": "code",
   "execution_count": 2,
   "id": "da06ad5c",
   "metadata": {},
   "outputs": [
    {
     "name": "stdout",
     "output_type": "stream",
     "text": [
      "Clases: ['neumonia', 'sano']\n",
      "Clases: ['neumonia', 'sano']\n"
     ]
    }
   ],
   "source": [
    "# Transformaciones\n",
    "transform = transforms.Compose([\n",
    "    transforms.Resize((64, 64)),   # más chico que 224x224 para ir rápido\n",
    "    transforms.ToTensor(),\n",
    "    transforms.Normalize(mean=[0.5,0.5,0.5], std=[0.5,0.5,0.5])\n",
    "])\n",
    "\n",
    "# Rutas del dataset (ajusta si tu carpeta se llama distinto)\n",
    "train_data_full = datasets.ImageFolder(\"dataset/train\", transform=transform)\n",
    "test_data_full  = datasets.ImageFolder(\"dataset/test\", transform=transform)\n",
    "\n",
    "print(\"Clases:\", train_data_full.classes)  # debería mostrar ['sano', 'neumonia']\n",
    "# Transformaciones\n",
    "transform = transforms.Compose([\n",
    "    transforms.Resize((64, 64)),   # más chico que 224x224 para ir rápido\n",
    "    transforms.ToTensor(),\n",
    "    transforms.Normalize(mean=[0.5,0.5,0.5], std=[0.5,0.5,0.5])\n",
    "])\n",
    "\n",
    "# Rutas del dataset (ajusta si tu carpeta se llama distinto)\n",
    "train_data_full = datasets.ImageFolder(\"dataset/train\", transform=transform)\n",
    "test_data_full  = datasets.ImageFolder(\"dataset/test\", transform=transform)\n",
    "\n",
    "print(\"Clases:\", train_data_full.classes)  # debería mostrar ['sano', 'neumonia']\n"
   ]
  },
  {
   "cell_type": "code",
   "execution_count": 3,
   "id": "db382180",
   "metadata": {},
   "outputs": [
    {
     "name": "stdout",
     "output_type": "stream",
     "text": [
      "Tamaño train: 30\n",
      "Tamaño test: 30\n"
     ]
    }
   ],
   "source": [
    "# Queremos solo 15 imágenes de cada clase para train y test\n",
    "\n",
    "def reducir_dataset(dataset, n=15):\n",
    "    indices = []\n",
    "    targets = np.array(dataset.targets)\n",
    "    for clase in np.unique(targets):\n",
    "        clase_idx = np.where(targets == clase)[0][:n]  # primeros n\n",
    "        indices.extend(clase_idx)\n",
    "    return Subset(dataset, indices)\n",
    "\n",
    "train_data = reducir_dataset(train_data_full, 15)\n",
    "test_data  = reducir_dataset(test_data_full, 15)\n",
    "\n",
    "# Loaders\n",
    "train_loader = DataLoader(train_data, batch_size=4, shuffle=True)\n",
    "test_loader  = DataLoader(test_data, batch_size=4, shuffle=False)\n",
    "\n",
    "print(\"Tamaño train:\", len(train_data))\n",
    "print(\"Tamaño test:\", len(test_data))\n"
   ]
  },
  {
   "cell_type": "code",
   "execution_count": 4,
   "id": "cb735029",
   "metadata": {},
   "outputs": [],
   "source": [
    "class CNN(nn.Module):\n",
    "    def __init__(self):\n",
    "        super(CNN, self).__init__()\n",
    "        self.conv1 = nn.Conv2d(3, 16, 3, padding=1)  # entrada 3 canales RGB\n",
    "        self.pool = nn.MaxPool2d(2, 2)\n",
    "        self.conv2 = nn.Conv2d(16, 32, 3, padding=1)\n",
    "        self.fc1 = nn.Linear(32 * 16 * 16, 64)  # depende del tamaño de entrada (64x64)\n",
    "        self.fc2 = nn.Linear(64, 2)  # 2 clases: sano / neumonia\n",
    "\n",
    "    def forward(self, x):\n",
    "        x = self.pool(F.relu(self.conv1(x)))\n",
    "        x = self.pool(F.relu(self.conv2(x)))\n",
    "        x = x.view(-1, 32 * 16 * 16)  # a vector\n",
    "        x = F.relu(self.fc1(x))\n",
    "        x = self.fc2(x)\n",
    "        return x\n",
    "\n",
    "model = CNN()\n"
   ]
  },
  {
   "cell_type": "code",
   "execution_count": 5,
   "id": "6ebdfa94",
   "metadata": {},
   "outputs": [],
   "source": [
    "criterion = nn.CrossEntropyLoss()\n",
    "optimizer = optim.Adam(model.parameters(), lr=0.001)  # tasa de aprendizaje\n"
   ]
  },
  {
   "cell_type": "code",
   "execution_count": 6,
   "id": "1ffb99d4",
   "metadata": {},
   "outputs": [
    {
     "name": "stdout",
     "output_type": "stream",
     "text": [
      "Época 1/5, Loss: 0.7283\n",
      "Época 2/5, Loss: 0.6812\n",
      "Época 3/5, Loss: 0.6207\n",
      "Época 4/5, Loss: 0.4730\n",
      "Época 5/5, Loss: 0.2894\n",
      "Entrenamiento finalizado ✅\n"
     ]
    }
   ],
   "source": [
    "epochs = 5\n",
    "\n",
    "for epoch in range(epochs):\n",
    "    running_loss = 0.0\n",
    "    for images, labels in train_loader:\n",
    "        optimizer.zero_grad()\n",
    "        outputs = model(images)\n",
    "        loss = criterion(outputs, labels)\n",
    "        loss.backward()\n",
    "        optimizer.step()\n",
    "        running_loss += loss.item()\n",
    "\n",
    "    print(f\"Época {epoch+1}/{epochs}, Loss: {running_loss/len(train_loader):.4f}\")\n",
    "\n",
    "print(\"Entrenamiento finalizado \")\n"
   ]
  },
  {
   "cell_type": "code",
   "execution_count": 7,
   "id": "10e7e98b",
   "metadata": {},
   "outputs": [
    {
     "name": "stdout",
     "output_type": "stream",
     "text": [
      "Accuracy en test: 90.00%\n"
     ]
    }
   ],
   "source": [
    "correct = 0\n",
    "total = 0\n",
    "with torch.no_grad():\n",
    "    for images, labels in test_loader:\n",
    "        outputs = model(images)\n",
    "        _, predicted = torch.max(outputs, 1)\n",
    "        total += labels.size(0)\n",
    "        correct += (predicted == labels).sum().item()\n",
    "\n",
    "accuracy = 100 * correct / total\n",
    "print(f\"Accuracy en test: {accuracy:.2f}%\")\n"
   ]
  },
  {
   "cell_type": "code",
   "execution_count": 8,
   "id": "c4ce662f",
   "metadata": {},
   "outputs": [],
   "source": [
    "class MLP(nn.Module):\n",
    "    def __init__(self):\n",
    "        super(MLP, self).__init__()\n",
    "        self.fc1 = nn.Linear(3*64*64, 128)\n",
    "        self.fc2 = nn.Linear(128, 64)\n",
    "        self.fc3 = nn.Linear(64, 2)\n",
    "\n",
    "    def forward(self, x):\n",
    "        x = x.view(-1, 3*64*64)\n",
    "        x = F.relu(self.fc1(x))\n",
    "        x = F.relu(self.fc2(x))\n",
    "        x = self.fc3(x)\n",
    "        return x\n",
    "\n",
    "mlp = MLP()\n",
    "criterion = nn.CrossEntropyLoss()\n",
    "optimizer = optim.Adam(mlp.parameters(), lr=0.001)\n"
   ]
  },
  {
   "cell_type": "code",
   "execution_count": 9,
   "id": "9ca4848b",
   "metadata": {},
   "outputs": [
    {
     "name": "stdout",
     "output_type": "stream",
     "text": [
      "[MLP] Época 1/5, Loss: 0.6921\n",
      "[MLP] Época 2/5, Loss: 0.4068\n",
      "[MLP] Época 3/5, Loss: 0.3553\n",
      "[MLP] Época 4/5, Loss: 0.1682\n",
      "[MLP] Época 5/5, Loss: 0.0553\n",
      "Accuracy MLP en test: 70.00%\n"
     ]
    }
   ],
   "source": [
    "# Entrenamiento rápido\n",
    "epochs = 5\n",
    "for epoch in range(epochs):\n",
    "    running_loss = 0.0\n",
    "    for images, labels in train_loader:\n",
    "        optimizer.zero_grad()\n",
    "        outputs = mlp(images)\n",
    "        loss = criterion(outputs, labels)\n",
    "        loss.backward()\n",
    "        optimizer.step()\n",
    "        running_loss += loss.item()\n",
    "    print(f\"[MLP] Época {epoch+1}/{epochs}, Loss: {running_loss/len(train_loader):.4f}\")\n",
    "\n",
    "# Evaluación\n",
    "correct = 0\n",
    "total = 0\n",
    "with torch.no_grad():\n",
    "    for images, labels in test_loader:\n",
    "        outputs = mlp(images)\n",
    "        _, predicted = torch.max(outputs, 1)\n",
    "        total += labels.size(0)\n",
    "        correct += (predicted == labels).sum().item()\n",
    "\n",
    "accuracy_mlp = 100 * correct / total\n",
    "print(f\"Accuracy MLP en test: {accuracy_mlp:.2f}%\")\n"
   ]
  },
  {
   "cell_type": "code",
   "execution_count": 10,
   "id": "a7e86525",
   "metadata": {},
   "outputs": [
    {
     "name": "stdout",
     "output_type": "stream",
     "text": [
      "Accuracy CNN: 90.00%\n",
      "Accuracy MLP: 70.00%\n"
     ]
    }
   ],
   "source": [
    "print(f\"Accuracy CNN: {accuracy:.2f}%\")\n",
    "print(f\"Accuracy MLP: {accuracy_mlp:.2f}%\")\n",
    "\n"
   ]
  }
 ],
 "metadata": {
  "kernelspec": {
   "display_name": "Python 3",
   "language": "python",
   "name": "python3"
  },
  "language_info": {
   "codemirror_mode": {
    "name": "ipython",
    "version": 3
   },
   "file_extension": ".py",
   "mimetype": "text/x-python",
   "name": "python",
   "nbconvert_exporter": "python",
   "pygments_lexer": "ipython3",
   "version": "3.10.0"
  }
 },
 "nbformat": 4,
 "nbformat_minor": 5
}
